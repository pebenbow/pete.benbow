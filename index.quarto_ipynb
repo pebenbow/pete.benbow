{
  "cells": [
    {
      "cell_type": "markdown",
      "metadata": {},
      "source": [
        "---\n",
        "title: \"Pete Benbow\"\n",
        "subtitle: \"Data Science Educator\"\n",
        "# `profile.jpg` photo by Jan Tinneberg on https://unsplash.com\n",
        "image: images/pete-meeko.jpg\n",
        "about: # https://quarto.org/docs/websites/website-about.html\n",
        "  template: trestles\n",
        "  image-shape: round\n",
        "  links:\n",
        "    - icon: github\n",
        "      text: Github\n",
        "      href: https://github.com/pebenbow\n",
        "    - icon: linkedin\n",
        "      text: LinkedIn\n",
        "      href: https://www.linkedin.com/in/pdbenbow/\n",
        "---\n",
        "\n",
        "\n",
        "\n",
        "\n",
        "## Hello, world!\n",
        "\n",
        "\n",
        "\n",
        "\n",
        "```{sql eval = FALSE, echo = TRUE}\n",
        "SELECT \n",
        "  *\n",
        "FROM \n",
        "  tblProfessors\n",
        "WHERE \n",
        "  firstName = 'Pete'\n",
        "```\n",
        "\n",
        "\n",
        "\n",
        "\n",
        "I'm the James B. Duke Assistant Professor of the Practice in Data Science at\n",
        "Davidson College. I've been teaching at Davidson since 2024, prior to which I\n",
        "worked in the field of business intelligence and analytics for over a decade.\n",
        "\n",
        "And this is my home on the internet, where I keep my [bio](bio.qmd) and [CV](cv.qmd), a list of the\n",
        "[courses](courses.qmd) I teach, some of the [projects](projects.qmd) I have worked on."
      ],
      "id": "55d6c294"
    }
  ],
  "metadata": {
    "kernelspec": {
      "display_name": "Python 3",
      "language": "python",
      "name": "python3"
    }
  },
  "nbformat": 4,
  "nbformat_minor": 5
}